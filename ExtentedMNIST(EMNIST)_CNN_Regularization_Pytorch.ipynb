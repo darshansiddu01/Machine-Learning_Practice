{
  "nbformat": 4,
  "nbformat_minor": 0,
  "metadata": {
    "colab": {
      "name": "ExtentedMNIST(EMNIST)_CNN_Regularization_Pytorch.ipynb",
      "version": "0.3.2",
      "provenance": [],
      "collapsed_sections": []
    },
    "kernelspec": {
      "display_name": "Python 3",
      "language": "python",
      "name": "python3"
    },
    "accelerator": "GPU"
  },
  "cells": [
    {
      "metadata": {
        "id": "n6WV8mIlL8o4",
        "colab_type": "text"
      },
      "cell_type": "markdown",
      "source": [
        "The objective of this experiment is to classify EMNIST dataset a understand regularization."
      ]
    },
    {
      "metadata": {
        "id": "2w6zsNW-TnmR",
        "colab_type": "text"
      },
      "cell_type": "markdown",
      "source": [
        "\n",
        "\n",
        "While our loss function allows us to determine how well (or poorly) our set of parameters (i.e., weight matrix, and bias vector) are performing on a given classification task, the loss function itself does not take into account how the weight matrix “looks”. This brings us to the following questions.  How do we go about choosing a set of parameters that will help ensure our model generalizes well? Or at the very least, lessen the affects of overfitting?\n",
        "\n",
        "The answer is <b>regularization.</b>\n",
        "\n",
        "This notebook is divided into two parts. In the first part we will observe the behaviour of the weight space after adding a regularization term while in the second part, we will use some property of the learned weight space to remove redundant connections.\n",
        "\n"
      ]
    },
    {
      "metadata": {
        "id": "wXg62E_pL8o-",
        "colab_type": "text"
      },
      "cell_type": "markdown",
      "source": [
        "##### Keywords\n",
        "\n",
        "* L1 Regularization\n",
        "* Pruning\n",
        "* Batchnorm"
      ]
    },
    {
      "metadata": {
        "id": "NaHGjdG5L8o_",
        "colab_type": "text"
      },
      "cell_type": "markdown",
      "source": [
        "##### Expected time to complete the experiment is : 90min"
      ]
    },
    {
      "metadata": {
        "id": "COSQ21_9L8o_",
        "colab_type": "text"
      },
      "cell_type": "markdown",
      "source": [
        "Let us begin by our regular import statements."
      ]
    },
    {
      "metadata": {
        "id": "RKNPMTcvPsbk",
        "colab_type": "code",
        "colab": {
          "base_uri": "https://localhost:8080/",
          "height": 108
        },
        "outputId": "9a937c8e-dd5c-4dbc-fe05-4210e2060507"
      },
      "cell_type": "code",
      "source": [
        "!pip3 install torch torchvision"
      ],
      "execution_count": 0,
      "outputs": [
        {
          "output_type": "stream",
          "text": [
            "Requirement already satisfied: torch in /usr/local/lib/python3.6/dist-packages (0.4.1)\n",
            "Requirement already satisfied: torchvision in /usr/local/lib/python3.6/dist-packages (0.2.1)\n",
            "Requirement already satisfied: six in /usr/local/lib/python3.6/dist-packages (from torchvision) (1.11.0)\n",
            "Requirement already satisfied: numpy in /usr/local/lib/python3.6/dist-packages (from torchvision) (1.14.6)\n",
            "Requirement already satisfied: pillow>=4.1.1 in /usr/local/lib/python3.6/dist-packages (from torchvision) (5.2.0)\n"
          ],
          "name": "stdout"
        }
      ]
    },
    {
      "metadata": {
        "id": "LhxAfWj7TnmS",
        "colab_type": "code",
        "colab": {}
      },
      "cell_type": "code",
      "source": [
        "import numpy as np\n",
        "import torch \n",
        "import torchvision\n",
        "import torch.nn as nn\n",
        "import torchvision.datasets as dsets\n",
        "import torchvision.transforms as transforms\n",
        "from torch.autograd import Variable\n",
        "%matplotlib inline\n",
        "import matplotlib.pyplot as plt"
      ],
      "execution_count": 0,
      "outputs": []
    },
    {
      "metadata": {
        "id": "8A70o515TnmV",
        "colab_type": "text"
      },
      "cell_type": "markdown",
      "source": [
        "### Hyperparameters to be used"
      ]
    },
    {
      "metadata": {
        "id": "SGlfUnYqTnmV",
        "colab_type": "code",
        "colab": {
          "base_uri": "https://localhost:8080/",
          "height": 35
        },
        "outputId": "4677c3f2-5b45-4e09-b5b0-591358470933"
      },
      "cell_type": "code",
      "source": [
        "num_epochs = 5\n",
        "batch_size = 100\n",
        "learning_rate = 0.001\n",
        "use_reg = False\n",
        "device = torch.device(\"cuda:0\" if torch.cuda.is_available() else \"cpu\")\n",
        "print(device)"
      ],
      "execution_count": 0,
      "outputs": [
        {
          "output_type": "stream",
          "text": [
            "cuda:0\n"
          ],
          "name": "stdout"
        }
      ]
    },
    {
      "metadata": {
        "id": "mYUS_CLxTnmY",
        "colab_type": "text"
      },
      "cell_type": "markdown",
      "source": [
        "### Downloading the (Extended)EMNIST Dataset"
      ]
    },
    {
      "metadata": {
        "id": "dp8uPwvTTnmY",
        "colab_type": "code",
        "colab": {}
      },
      "cell_type": "code",
      "source": [
        "train_dataset = dsets.EMNIST(root='../data',\n",
        "                             train=True,\n",
        "                             transform=transforms.ToTensor(),\n",
        "                             download=True,\n",
        "                             split='byclass')\n",
        "\n",
        "test_dataset = dsets.EMNIST(root='../data',\n",
        "                           train=False, \n",
        "                           transform=transforms.ToTensor(),\n",
        "                           split='byclass')"
      ],
      "execution_count": 0,
      "outputs": []
    },
    {
      "metadata": {
        "id": "ZNnphTJsTnmc",
        "colab_type": "text"
      },
      "cell_type": "markdown",
      "source": [
        "### Dataloader"
      ]
    },
    {
      "metadata": {
        "id": "MKzALRgfTnmd",
        "colab_type": "code",
        "colab": {}
      },
      "cell_type": "code",
      "source": [
        "train_loader = torch.utils.data.DataLoader(dataset=train_dataset,\n",
        "                                           batch_size=batch_size, \n",
        "                                           shuffle=True)\n",
        "\n",
        "test_loader = torch.utils.data.DataLoader(dataset=test_dataset,\n",
        "                                          batch_size=batch_size, \n",
        "                                          shuffle=False)"
      ],
      "execution_count": 0,
      "outputs": []
    },
    {
      "metadata": {
        "id": "__WqESknCsDS",
        "colab_type": "code",
        "colab": {
          "base_uri": "https://localhost:8080/",
          "height": 54
        },
        "outputId": "a4db577f-3924-4a43-c6fe-93cf0f3ddac1"
      },
      "cell_type": "code",
      "source": [
        "print(train_loader.sampler.data_source.train_data.size())\n",
        "test_loader.sampler.data_source.test_data.size()\n",
        "train_loader.sampler.data_source.train_labels.unique().size()"
      ],
      "execution_count": 0,
      "outputs": [
        {
          "output_type": "stream",
          "text": [
            "torch.Size([697932, 28, 28])\n"
          ],
          "name": "stdout"
        },
        {
          "output_type": "execute_result",
          "data": {
            "text/plain": [
              "torch.Size([62])"
            ]
          },
          "metadata": {
            "tags": []
          },
          "execution_count": 7
        }
      ]
    },
    {
      "metadata": {
        "id": "AT6lALQp93rh",
        "colab_type": "code",
        "colab": {
          "base_uri": "https://localhost:8080/",
          "height": 4981
        },
        "outputId": "52b4358a-9a7c-4e10-a43c-8660be5c7fb2"
      },
      "cell_type": "code",
      "source": [
        "for i in range(10):\n",
        "  plt.imshow(train_loader.sampler.data_source.train_data[i])\n",
        "  plt.show()\n",
        "  \n",
        "for i in range(10):\n",
        "  plt.imshow(test_loader.sampler.data_source.test_data[i])\n",
        "  plt.show() "
      ],
      "execution_count": 0,
      "outputs": [
        {
          "output_type": "display_data",
          "data": {
            "image/png": "[encoded data removed]",
            "text/plain": [
              "<matplotlib.figure.Figure at 0x7f3a94690cc0>"
            ]
          },
          "metadata": {
            "tags": []
          }
        },
        {
          "output_type": "display_data",
          "data": {
            "image/png": "[encoded data removed]",
            "text/plain": [
              "<matplotlib.figure.Figure at 0x7f3a4c827a90>"
            ]
          },
          "metadata": {
            "tags": []
          }
        },
        {
          "output_type": "display_data",
          "data": {
            "image/png": "[encoded data removed]",
            "text/plain": [
              "<matplotlib.figure.Figure at 0x7f3a4c7f0f28>"
            ]
          },
          "metadata": {
            "tags": []
          }
        },
        {
          "output_type": "display_data",
          "data": {
            "image/png": "[encoded data removed]",
            "text/plain": [
              "<matplotlib.figure.Figure at 0x7f3a49ec7390>"
            ]
          },
          "metadata": {
            "tags": []
          }
        },
        {
          "output_type": "display_data",
          "data": {
            "image/png": "[encoded data removed]",
            "text/plain": [
              "<matplotlib.figure.Figure at 0x7f3a49eea710>"
            ]
          },
          "metadata": {
            "tags": []
          }
        },
        {
          "output_type": "display_data",
          "data": {
            "image/png": "[encoded data removed]",
            "text/plain": [
              "<matplotlib.figure.Figure at 0x7f3a4c7e0d30>"
            ]
          },
          "metadata": {
            "tags": []
          }
        },
        {
          "output_type": "display_data",
          "data": {
            "image/png": "[encoded data removed]",
            "text/plain": [
              "<matplotlib.figure.Figure at 0x7f3a4c790588>"
            ]
          },
          "metadata": {
            "tags": []
          }
        },
        {
          "output_type": "display_data",
          "data": {
            "image/png": "[encoded data removed]",
            "text/plain": [
              "<matplotlib.figure.Figure at 0x7f3a49e2b0f0>"
            ]
          },
          "metadata": {
            "tags": []
          }
        },
        {
          "output_type": "display_data",
          "data": {
            "image/png": "[encoded data removed]",
            "text/plain": [
              "<matplotlib.figure.Figure at 0x7f3a49e0a710>"
            ]
          },
          "metadata": {
            "tags": []
          }
        },
        {
          "output_type": "display_data",
          "data": {
            "image/png": "[encoded data removed]",
            "text/plain": [
              "<matplotlib.figure.Figure at 0x7f3a49dd3630>"
            ]
          },
          "metadata": {
            "tags": []
          }
        },
        {
          "output_type": "display_data",
          "data": {
            "image/png": "[encoded data removed]",
            "text/plain": [
              "<matplotlib.figure.Figure at 0x7f3a94690c88>"
            ]
          },
          "metadata": {
            "tags": []
          }
        },
        {
          "output_type": "display_data",
          "data": {
            "image/png": "[encoded data removed]",
            "text/plain": [
              "<matplotlib.figure.Figure at 0x7f3a49d016d8>"
            ]
          },
          "metadata": {
            "tags": []
          }
        },
        {
          "output_type": "display_data",
          "data": {
            "image/png": "[encoded data removed]",
            "text/plain": [
              "<matplotlib.figure.Figure at 0x7f3a49c826a0>"
            ]
          },
          "metadata": {
            "tags": []
          }
        },
        {
          "output_type": "display_data",
          "data": {
            "image/png": "[encoded data removed]",
            "text/plain": [
              "<matplotlib.figure.Figure at 0x7f3a49c5e7f0>"
            ]
          },
          "metadata": {
            "tags": []
          }
        },
        {
          "output_type": "display_data",
          "data": {
            "image/png": "[encoded data removed]",
            "text/plain": [
              "<matplotlib.figure.Figure at 0x7f3a49bba7b8>"
            ]
          },
          "metadata": {
            "tags": []
          }
        },
        {
          "output_type": "display_data",
          "data": {
            "image/png": "[encoded data removed]",
            "text/plain": [
              "<matplotlib.figure.Figure at 0x7f3a49b9e7f0>"
            ]
          },
          "metadata": {
            "tags": []
          }
        },
        {
          "output_type": "display_data",
          "data": {
            "image/png": "[encoded data removed]",
            "text/plain": [
              "<matplotlib.figure.Figure at 0x7f3a49bbacf8>"
            ]
          },
          "metadata": {
            "tags": []
          }
        },
        {
          "output_type": "display_data",
          "data": {
            "image/png": "[encoded data removed]",
            "text/plain": [
              "<matplotlib.figure.Figure at 0x7f3a49ad6710>"
            ]
          },
          "metadata": {
            "tags": []
          }
        },
        {
          "output_type": "display_data",
          "data": {
            "image/png": "[encoded data removed]",
            "text/plain": [
              "<matplotlib.figure.Figure at 0x7f3a49aa2828>"
            ]
          },
          "metadata": {
            "tags": []
          }
        },
        {
          "output_type": "display_data",
          "data": {
            "image/png": "[encoded data removed]",
            "text/plain": [
              "<matplotlib.figure.Figure at 0x7f3a49a18710>"
            ]
          },
          "metadata": {
            "tags": []
          }
        }
      ]
    },
    {
      "metadata": {
        "id": "kxFubQ6OTnme",
        "colab_type": "text"
      },
      "cell_type": "markdown",
      "source": [
        "### Defining the network"
      ]
    },
    {
      "metadata": {
        "id": "dULykqibTnmf",
        "colab_type": "code",
        "colab": {}
      },
      "cell_type": "code",
      "source": [
        "class Net(nn.Module):\n",
        "    def __init__(self):\n",
        "        super(Net, self).__init__()\n",
        "        self.layer1 = nn.Sequential(\n",
        "            nn.Conv2d(1, 16, kernel_size=5, padding=2),\n",
        "            nn.BatchNorm2d(16),\n",
        "            nn.ReLU())\n",
        "        self.layer2 = nn.Sequential(\n",
        "            nn.Conv2d(16, 16, kernel_size=3, padding=1),\n",
        "            nn.BatchNorm2d(16),\n",
        "            nn.ReLU(),\n",
        "            nn.MaxPool2d(2))\n",
        "        self.layer3 = nn.Sequential(\n",
        "            nn.Conv2d(16, 32, kernel_size=3, padding=1),\n",
        "            nn.BatchNorm2d(32),\n",
        "            nn.ReLU(),\n",
        "            nn.MaxPool2d(2))\n",
        "        self.fc1 = nn.Linear(7*7*32, 300)\n",
        "        self.fc2 = nn.Linear(300, 62)\n",
        "        \n",
        "    def forward(self, x):\n",
        "        out = self.layer1(x)\n",
        "        out = self.layer2(out)\n",
        "        out = self.layer3(out)\n",
        "        out = out.view(out.size(0), -1)\n",
        "        out = self.fc1(out)\n",
        "        out = self.fc2(out)\n",
        "        return out"
      ],
      "execution_count": 0,
      "outputs": []
    },
    {
      "metadata": {
        "id": "bfLjHmz7Tnmh",
        "colab_type": "text"
      },
      "cell_type": "markdown",
      "source": [
        "<b>The below function is called to reinitialize the weights of the network and define the required loss criterion and the optimizer.</b> "
      ]
    },
    {
      "metadata": {
        "id": "-khA9HNuTnmh",
        "colab_type": "code",
        "colab": {
          "base_uri": "https://localhost:8080/",
          "height": 35
        },
        "outputId": "0984a6e9-9ec5-4e99-900f-11b43605f20b"
      },
      "cell_type": "code",
      "source": [
        "def reset_model():\n",
        "    net = Net()\n",
        "    net = net.to(device)\n",
        "\n",
        "    # Loss and Optimizer\n",
        "    criterion = nn.CrossEntropyLoss()\n",
        "    optimizer = torch.optim.Adam(net.parameters(), lr=learning_rate)\n",
        "    return net,criterion,optimizer\n",
        "\n",
        "print(device)"
      ],
      "execution_count": 0,
      "outputs": [
        {
          "output_type": "stream",
          "text": [
            "cuda:0\n"
          ],
          "name": "stdout"
        }
      ]
    },
    {
      "metadata": {
        "id": "a4d3zIBxTnmk",
        "colab_type": "text"
      },
      "cell_type": "markdown",
      "source": [
        "### L1 Regularization\n",
        "\n",
        "Here, we define a L1 Regularizer and add it to our loss function. The L1 Regularization term basically adds a penalty, equivalent to the absolute value of the magnitude of the weights. This ensures that the magnitude of the weights do not become too high.\n",
        "\n",
        "We have seen in the previous lectures that adding the L1 regularizer ensures sparsity. This is important becuase our ultimate aim is to prune connections from our network. That would mean we should try to make as many weights extremely close to 0 as possible. Thus, adding this penalty term ensures sparsity. The L1 Regularizer is also known as Lass Regression and it can be defined as follows:\n",
        "\n",
        "$$P=\\lambda*\\sum_{i=1}^{n}|\\theta_{i}-0|$$"
      ]
    },
    {
      "metadata": {
        "id": "CN5np0bMTnml",
        "colab_type": "code",
        "colab": {}
      },
      "cell_type": "code",
      "source": [
        "def l1_regularizer(net, loss, beta):\n",
        "    l1_crit = nn.L1Loss(size_average=False)\n",
        "    reg_loss = 0\n",
        "    for param in net.parameters():\n",
        "        target = (torch.FloatTensor(param.size()).zero_()).to(device)\n",
        "        reg_loss += l1_crit(param, target)\n",
        "        \n",
        "    loss += beta * reg_loss\n",
        "    return loss"
      ],
      "execution_count": 0,
      "outputs": []
    },
    {
      "metadata": {
        "id": "l1o15mQXLmBY",
        "colab_type": "code",
        "colab": {
          "base_uri": "https://localhost:8080/",
          "height": 308
        },
        "outputId": "aa3ec681-7038-4b65-c620-9b43cffd4b9d"
      },
      "cell_type": "code",
      "source": [
        "!nvidia-smi"
      ],
      "execution_count": 0,
      "outputs": [
        {
          "output_type": "stream",
          "text": [
            "Sun Sep 30 16:34:30 2018       \n",
            "+-----------------------------------------------------------------------------+\n",
            "| NVIDIA-SMI 384.111                Driver Version: 384.111                   |\n",
            "|-------------------------------+----------------------+----------------------+\n",
            "| GPU  Name        Persistence-M| Bus-Id        Disp.A | Volatile Uncorr. ECC |\n",
            "| Fan  Temp  Perf  Pwr:Usage/Cap|         Memory-Usage | GPU-Util  Compute M. |\n",
            "|===============================+======================+======================|\n",
            "|   0  Tesla K80           Off  | 00000000:00:04.0 Off |                    0 |\n",
            "| N/A   36C    P0    58W / 149W |    852MiB / 11439MiB |      0%      Default |\n",
            "+-------------------------------+----------------------+----------------------+\n",
            "                                                                               \n",
            "+-----------------------------------------------------------------------------+\n",
            "| Processes:                                                       GPU Memory |\n",
            "|  GPU       PID   Type   Process name                             Usage      |\n",
            "|=============================================================================|\n",
            "+-----------------------------------------------------------------------------+\n"
          ],
          "name": "stdout"
        }
      ]
    },
    {
      "metadata": {
        "id": "_zXI813PTnmn",
        "colab_type": "text"
      },
      "cell_type": "markdown",
      "source": [
        "### Initializing the model"
      ]
    },
    {
      "metadata": {
        "id": "puVKJQjnTnmo",
        "colab_type": "code",
        "colab": {}
      },
      "cell_type": "code",
      "source": [
        "net, criterion, optimizer = reset_model()"
      ],
      "execution_count": 0,
      "outputs": []
    },
    {
      "metadata": {
        "id": "X6D4awmdTnmr",
        "colab_type": "text"
      },
      "cell_type": "markdown",
      "source": [
        "### Defining the training function"
      ]
    },
    {
      "metadata": {
        "id": "rqu5iRI4Tnmr",
        "colab_type": "code",
        "colab": {}
      },
      "cell_type": "code",
      "source": [
        "# Train the Model\n",
        "\n",
        "def training(net, reset = True):\n",
        "    if reset == True:\n",
        "        net, criterion, optimizer = reset_model()\n",
        "    else:\n",
        "        criterion = nn.CrossEntropyLoss()\n",
        "        optimizer = torch.optim.Adam(net.parameters(), lr=learning_rate)\n",
        "    \n",
        "    net.train()\n",
        "    for epoch in range(num_epochs):\n",
        "        total_loss = 0\n",
        "        accuracy = []\n",
        "        for i, (images, labels) in enumerate(train_loader):\n",
        "            images = images.to(device)\n",
        "            labels = labels.to(device)\n",
        "            temp_labels = labels\n",
        "            \n",
        "\n",
        "            # Forward + Backward + Optimize\n",
        "            optimizer.zero_grad()\n",
        "            outputs = net(images)\n",
        "            loss = criterion(outputs, labels)\n",
        "\n",
        "            if use_reg == True :\n",
        "                loss = l1_regularizer(net,loss,beta=0.001)\n",
        "\n",
        "            loss.backward()\n",
        "            optimizer.step()\n",
        "\n",
        "            total_loss += loss.item()\n",
        "            _, predicted = torch.max(outputs.data, 1)\n",
        "            correct = (predicted == temp_labels).sum().item()\n",
        "            accuracy.append(correct/float(batch_size))\n",
        "\n",
        "        print('Epoch: %d, Loss: %.4f, Accuracy: %.4f' %(epoch+1,total_loss, (sum(accuracy)/float(len(accuracy)))))\n",
        "    \n",
        "    return net"
      ],
      "execution_count": 0,
      "outputs": []
    },
    {
      "metadata": {
        "id": "OAPJXTA4Tnmt",
        "colab_type": "text"
      },
      "cell_type": "markdown",
      "source": [
        "### Defining the testing function"
      ]
    },
    {
      "metadata": {
        "id": "1M-YBR80Tnmu",
        "colab_type": "code",
        "colab": {}
      },
      "cell_type": "code",
      "source": [
        "# Test the Model\n",
        "def testing(net):\n",
        "    net.eval() \n",
        "    correct = 0\n",
        "    total = 0\n",
        "    for images, labels in test_loader:\n",
        "        images = images.to(device)\n",
        "        labels = labels.to(device)\n",
        "        outputs = net(images)\n",
        "        _, predicted = torch.max(outputs.data, 1)\n",
        "        total += labels.size(0)\n",
        "        correct += (predicted == labels).sum().item()\n",
        "\n",
        "\n",
        "\n",
        "\n",
        "    print('Test Accuracy of the network on the 10000 test images: %.2f %%' % (100.0 * correct / total))"
      ],
      "execution_count": 0,
      "outputs": []
    },
    {
      "metadata": {
        "id": "-HRbNb4NTnmx",
        "colab_type": "text"
      },
      "cell_type": "markdown",
      "source": [
        "### Training and testing the network"
      ]
    },
    {
      "metadata": {
        "id": "YSbJvxVXTnmz",
        "colab_type": "code",
        "colab": {
          "base_uri": "https://localhost:8080/",
          "height": 126
        },
        "outputId": "cb6bd079-bfdb-4eef-f382-534f1b6d26b2"
      },
      "cell_type": "code",
      "source": [
        "reset = True\n",
        "net = training(net, reset)\n",
        "testing(net)"
      ],
      "execution_count": 0,
      "outputs": [
        {
          "output_type": "stream",
          "text": [
            "Epoch: 1, Loss: 3355.5600, Accuracy: 0.8344\n",
            "Epoch: 2, Loss: 2773.9986, Accuracy: 0.8564\n",
            "Epoch: 3, Loss: 2640.6411, Accuracy: 0.8617\n",
            "Epoch: 4, Loss: 2560.9051, Accuracy: 0.8649\n",
            "Epoch: 5, Loss: 2499.5445, Accuracy: 0.8672\n",
            "Test Accuracy of the network on the 10000 test images: 86.34 %\n"
          ],
          "name": "stdout"
        }
      ]
    },
    {
      "metadata": {
        "id": "_lPLTqUOTnm3",
        "colab_type": "text"
      },
      "cell_type": "markdown",
      "source": [
        "### Function for plotting the weight distribution\n",
        "\n",
        "We want to plot the weights learnt during training and we define the following function to do so. It is important to note that in order ro achieve smoothness in the behaviour of the plot we use 256 clusters here where the nearest weight values are rounded to. Feel free to experiment with defining lesser number of clusters for the weight distribution approximation. However, the plot may not be as smooth. \n",
        "\n",
        "We plot the cluster values in the x-axis and the frequency of the weights in the y-axis."
      ]
    },
    {
      "metadata": {
        "id": "6p7eVeOGTnm3",
        "colab_type": "code",
        "colab": {}
      },
      "cell_type": "code",
      "source": [
        "def weightdistribution(weights):\n",
        "    maxim= np.amax(weights)\n",
        "    print(\"Maximum value of learnt weights: \" + str(maxim))\n",
        "    \n",
        "    minim= np.amin(weights)\n",
        "    print(\"Minimum value of learnt weights: \" + str(minim))\n",
        "    \n",
        "    step= (maxim-minim)/255\n",
        "    freq= np.zeros(256)\n",
        "    steps=[]\n",
        "\n",
        "    for i in range(0,256):\n",
        "        steps.append(minim)\n",
        "        minim+=step\n",
        "    \n",
        "    m = weights.shape[0]\n",
        "    \n",
        "    for i in range(0,m):\n",
        "        e= weights[i]\n",
        "        dist= (steps-e)**2\n",
        "        freq[np.argmin(dist)]+=1\n",
        "    \n",
        "        \n",
        "    plt.plot(steps,list(freq))\n",
        "    plt.show()"
      ],
      "execution_count": 0,
      "outputs": []
    },
    {
      "metadata": {
        "id": "TxY_VCALTnm6",
        "colab_type": "code",
        "colab": {
          "base_uri": "https://localhost:8080/",
          "height": 871
        },
        "outputId": "7bdec074-56bd-4784-f9ec-53d844e40e7a"
      },
      "cell_type": "code",
      "source": [
        "weightdistribution(net.state_dict()['layer2.0.weight'].cpu().numpy().flatten())\n",
        "weightdistribution(net.state_dict()['fc1.weight'].cpu().numpy().flatten())\n",
        "weightdistribution(net.state_dict()['fc2.weight'].cpu().numpy().flatten())"
      ],
      "execution_count": 0,
      "outputs": [
        {
          "output_type": "stream",
          "text": [
            "Maximum value of learnt weights: 0.56698483\n",
            "Minimum value of learnt weights: -0.7783283\n"
          ],
          "name": "stdout"
        },
        {
          "output_type": "display_data",
          "data": {
            "image/png": "[encoded data removed]",
            "text/plain": [
              "<matplotlib.figure.Figure at 0x7f3a49976d30>"
            ]
          },
          "metadata": {
            "tags": []
          }
        },
        {
          "output_type": "stream",
          "text": [
            "Maximum value of learnt weights: 1.0024229\n",
            "Minimum value of learnt weights: -0.98163325\n"
          ],
          "name": "stdout"
        },
        {
          "output_type": "display_data",
          "data": {
            "image/png": "[encoded data removed]",
            "text/plain": [
              "<matplotlib.figure.Figure at 0x7f3a49987e10>"
            ]
          },
          "metadata": {
            "tags": []
          }
        },
        {
          "output_type": "stream",
          "text": [
            "Maximum value of learnt weights: 0.53328246\n",
            "Minimum value of learnt weights: -0.54711515\n"
          ],
          "name": "stdout"
        },
        {
          "output_type": "display_data",
          "data": {
            "image/png": "[encoded data removed]",
            "text/plain": [
              "<matplotlib.figure.Figure at 0x7f3a49a60128>"
            ]
          },
          "metadata": {
            "tags": []
          }
        }
      ]
    },
    {
      "metadata": {
        "id": "WzseaQfLTnm8",
        "colab_type": "text"
      },
      "cell_type": "markdown",
      "source": [
        "### Defining the pruning function\n",
        "\n",
        "We use a threshold based criteria to remove certain connections in the networks which fall within a threshold value. Hence, we define a function which takes the network as input and a vlaue for threshold and forces those connections to be 0 which fall with the threshold given by the following equation.\n",
        "\n",
        "$$\n",
        "\\begin{equation}\n",
        " W_{i} = \n",
        " \\begin{cases} \n",
        "      W_{i} & W_{i} < -\\theta \\\\\n",
        "      0 & -\\theta\\leq W_{i}\\leq \\theta \\\\\n",
        "      W_{i} & \\theta < W_{i} \n",
        "  \\end{cases}\n",
        "\\end{equation}\n",
        "$$\n",
        "\n",
        "We prune both the weights and biases of Convolution layers, Fully Connected layers and the Batch Normalization layers"
      ]
    },
    {
      "metadata": {
        "id": "ZgW4yUPBTnm8",
        "colab_type": "code",
        "colab": {}
      },
      "cell_type": "code",
      "source": [
        "def prune_weight(net, threshold):\n",
        "    \n",
        "    for m in net.modules():\n",
        "        if isinstance(m,nn.Conv2d) or isinstance(m,nn.BatchNorm2d) or isinstance(m,nn.Linear):\n",
        "\n",
        "            temp_weight = m.weight.data.cpu().numpy()\n",
        "            dims = temp_weight.shape\n",
        "            print('WEIGHT ',dims)\n",
        "            print(\"Before pruning------->\")\n",
        "            print(np.count_nonzero(temp_weight))\n",
        "\n",
        "            temp_weight = temp_weight.flatten()\n",
        "\n",
        "            [x1,x2]=((np.where(np.all([[(-1*threshold) < (temp_weight)] , [(temp_weight) < threshold]],axis=0))))\n",
        "            temp_weight[x2] = 0\n",
        "            temp_weight = np.reshape(temp_weight,dims)\n",
        "            print(\"After pruning------->\")\n",
        "            print(np.count_nonzero(temp_weight))\n",
        "            print('-------------------------------------------------------------------------------')\n",
        "            m.weight.data = (torch.FloatTensor(temp_weight).cuda())\n",
        "\n",
        "            temp_bias = m.bias.data.cpu().numpy()\n",
        "            dims = temp_bias.shape\n",
        "            print('BIAS ',dims)\n",
        "            print(\"Before pruning------->\")\n",
        "            print(np.count_nonzero(temp_bias))\n",
        "\n",
        "            temp_bias = temp_bias.flatten()\n",
        "\n",
        "            [x1,x2]=((np.where(np.all([[(-1*threshold) < (temp_bias)] , [(temp_bias) < threshold]],axis=0))))\n",
        "            temp_bias[x2] = 0\n",
        "            temp_bias = np.reshape(temp_bias,dims)\n",
        "            print(\"After pruning------->\")\n",
        "            print(np.count_nonzero(temp_bias))\n",
        "            print('-------------------------------------------------------------------------------')\n",
        "            m.bias.data = (torch.FloatTensor(temp_bias).cuda())\n",
        "\n",
        "# for m in net.modules():\n",
        "#     if isinstance(m,nn.Conv2d):\n",
        "#         print m.bias.data\n",
        "  "
      ],
      "execution_count": 0,
      "outputs": []
    },
    {
      "metadata": {
        "id": "4SNHjrWWTnm-",
        "colab_type": "text"
      },
      "cell_type": "markdown",
      "source": [
        "Here, we check how many connetions have been pruned"
      ]
    },
    {
      "metadata": {
        "id": "zSqWfhNuTnnA",
        "colab_type": "code",
        "colab": {
          "base_uri": "https://localhost:8080/",
          "height": 1676
        },
        "outputId": "47189424-31b9-417f-b646-d23b46b22282"
      },
      "cell_type": "code",
      "source": [
        "threshold = 0.01\n",
        "prune_weight(net,threshold)"
      ],
      "execution_count": 0,
      "outputs": [
        {
          "output_type": "stream",
          "text": [
            "WEIGHT  (16, 1, 5, 5)\n",
            "Before pruning------->\n",
            "400\n",
            "After pruning------->\n",
            "387\n",
            "-------------------------------------------------------------------------------\n",
            "BIAS  (16,)\n",
            "Before pruning------->\n",
            "16\n",
            "After pruning------->\n",
            "16\n",
            "-------------------------------------------------------------------------------\n",
            "WEIGHT  (16,)\n",
            "Before pruning------->\n",
            "16\n",
            "After pruning------->\n",
            "16\n",
            "-------------------------------------------------------------------------------\n",
            "BIAS  (16,)\n",
            "Before pruning------->\n",
            "16\n",
            "After pruning------->\n",
            "14\n",
            "-------------------------------------------------------------------------------\n",
            "WEIGHT  (16, 16, 3, 3)\n",
            "Before pruning------->\n",
            "2304\n",
            "After pruning------->\n",
            "2032\n",
            "-------------------------------------------------------------------------------\n",
            "BIAS  (16,)\n",
            "Before pruning------->\n",
            "16\n",
            "After pruning------->\n",
            "14\n",
            "-------------------------------------------------------------------------------\n",
            "WEIGHT  (16,)\n",
            "Before pruning------->\n",
            "16\n",
            "After pruning------->\n",
            "16\n",
            "-------------------------------------------------------------------------------\n",
            "BIAS  (16,)\n",
            "Before pruning------->\n",
            "16\n",
            "After pruning------->\n",
            "15\n",
            "-------------------------------------------------------------------------------\n",
            "WEIGHT  (32, 16, 3, 3)\n",
            "Before pruning------->\n",
            "4608\n",
            "After pruning------->\n",
            "4145\n",
            "-------------------------------------------------------------------------------\n",
            "BIAS  (32,)\n",
            "Before pruning------->\n",
            "32\n",
            "After pruning------->\n",
            "27\n",
            "-------------------------------------------------------------------------------\n",
            "WEIGHT  (32,)\n",
            "Before pruning------->\n",
            "32\n",
            "After pruning------->\n",
            "32\n",
            "-------------------------------------------------------------------------------\n",
            "BIAS  (32,)\n",
            "Before pruning------->\n",
            "32\n",
            "After pruning------->\n",
            "32\n",
            "-------------------------------------------------------------------------------\n",
            "WEIGHT  (300, 1568)\n",
            "Before pruning------->\n",
            "470400\n",
            "After pruning------->\n",
            "359090\n",
            "-------------------------------------------------------------------------------\n",
            "BIAS  (300,)\n",
            "Before pruning------->\n",
            "300\n",
            "After pruning------->\n",
            "207\n",
            "-------------------------------------------------------------------------------\n",
            "WEIGHT  (10, 300)\n",
            "Before pruning------->\n",
            "3000\n",
            "After pruning------->\n",
            "2596\n",
            "-------------------------------------------------------------------------------\n",
            "BIAS  (10,)\n",
            "Before pruning------->\n",
            "10\n",
            "After pruning------->\n",
            "8\n",
            "-------------------------------------------------------------------------------\n"
          ],
          "name": "stdout"
        }
      ]
    },
    {
      "metadata": {
        "id": "KnT1VyvOTnnD",
        "colab_type": "text"
      },
      "cell_type": "markdown",
      "source": [
        "Training the network again using the regularizer. The loss is modified as \n",
        "\n",
        "$$\n",
        "loss = loss + regularized_{loss}\n",
        "$$"
      ]
    },
    {
      "metadata": {
        "id": "uCT6MKZITnnD",
        "colab_type": "code",
        "colab": {
          "base_uri": "https://localhost:8080/",
          "height": 183
        },
        "outputId": "632b812e-2674-4ea6-ec94-be3be5130493"
      },
      "cell_type": "code",
      "source": [
        "reset = True\n",
        "use_reg = True\n",
        "net = training(net, reset)\n",
        "testing(net)"
      ],
      "execution_count": 0,
      "outputs": [
        {
          "output_type": "stream",
          "text": [
            "/usr/local/lib/python3.6/dist-packages/torch/nn/functional.py:52: UserWarning: size_average and reduce args will be deprecated, please use reduction='sum' instead.\n",
            "  warnings.warn(warning.format(ret))\n"
          ],
          "name": "stderr"
        },
        {
          "output_type": "stream",
          "text": [
            "Epoch: 1, Loss: 8099.3669, Accuracy: 0.8052\n",
            "Epoch: 2, Loss: 6252.3475, Accuracy: 0.8248\n",
            "Epoch: 3, Loss: 6049.2979, Accuracy: 0.8273\n",
            "Epoch: 4, Loss: 5935.6652, Accuracy: 0.8279\n",
            "Epoch: 5, Loss: 5865.9498, Accuracy: 0.8285\n",
            "Test Accuracy of the network on the 10000 test images: 83.04 %\n"
          ],
          "name": "stdout"
        }
      ]
    },
    {
      "metadata": {
        "id": "B2Ica71fTnnH",
        "colab_type": "text"
      },
      "cell_type": "markdown",
      "source": [
        "<b>Visualizing the weight distributions with the regularized loss</b>"
      ]
    },
    {
      "metadata": {
        "id": "N8RVoDFgTnnH",
        "colab_type": "code",
        "colab": {
          "base_uri": "https://localhost:8080/",
          "height": 872
        },
        "outputId": "99a0163a-fbe7-4122-dc85-aba01584849f"
      },
      "cell_type": "code",
      "source": [
        "weightdistribution(net.state_dict()['layer2.0.weight'].cpu().numpy().flatten())\n",
        "weightdistribution(net.state_dict()['fc1.weight'].cpu().numpy().flatten())\n",
        "weightdistribution(net.state_dict()['fc2.weight'].cpu().numpy().flatten())"
      ],
      "execution_count": 0,
      "outputs": [
        {
          "output_type": "stream",
          "text": [
            "Maximum value of learnt weights: 0.17032868\n",
            "Minimum value of learnt weights: -0.26483303\n"
          ],
          "name": "stdout"
        },
        {
          "output_type": "display_data",
          "data": {
            "image/png": "[encoded data removed]",
            "text/plain": [
              "<matplotlib.figure.Figure at 0x7f3a4c7b0d68>"
            ]
          },
          "metadata": {
            "tags": []
          }
        },
        {
          "output_type": "stream",
          "text": [
            "Maximum value of learnt weights: 0.6617197\n",
            "Minimum value of learnt weights: -0.45341122\n"
          ],
          "name": "stdout"
        },
        {
          "output_type": "display_data",
          "data": {
            "image/png": "[encoded data removed]",
            "text/plain": [
              "<matplotlib.figure.Figure at 0x7f3a2211ac88>"
            ]
          },
          "metadata": {
            "tags": []
          }
        },
        {
          "output_type": "stream",
          "text": [
            "Maximum value of learnt weights: 0.36461735\n",
            "Minimum value of learnt weights: -0.42361647\n"
          ],
          "name": "stdout"
        },
        {
          "output_type": "display_data",
          "data": {
            "image/png": "[encoded data removed]",
            "text/plain": [
              "<matplotlib.figure.Figure at 0x7f3a2211a400>"
            ]
          },
          "metadata": {
            "tags": []
          }
        }
      ]
    },
    {
      "metadata": {
        "id": "Lx0ZAH8jTnnJ",
        "colab_type": "text"
      },
      "cell_type": "markdown",
      "source": [
        "By using the L1 Regularizer, we see that we have forced the network to learn weights within a constrained subspace. Since more number of weights are closer to 0, it is evident that we will be able to make more weights 0 by using the same threshold as before. This, therefore ensures sparsity in every layer of the network.\n",
        "\n",
        "An interesting observation is that the netowrk tells us that it does not require biases for certain layers."
      ]
    },
    {
      "metadata": {
        "id": "S_w7Cpr8TnnK",
        "colab_type": "code",
        "colab": {
          "base_uri": "https://localhost:8080/",
          "height": 1763
        },
        "outputId": "2e2daf91-a16d-43e3-f464-ee70728cbb62"
      },
      "cell_type": "code",
      "source": [
        "threshold = 0.01\n",
        "prune_weight(net,threshold)"
      ],
      "execution_count": 0,
      "outputs": [
        {
          "output_type": "stream",
          "text": [
            "WEIGHT  (16, 1, 5, 5)\n",
            "Before pruning------->\n",
            "400\n",
            "After pruning------->\n",
            "136\n",
            "-------------------------------------------------------------------------------\n",
            "BIAS  (16,)\n",
            "Before pruning------->\n",
            "16\n",
            "After pruning------->\n",
            "0\n",
            "-------------------------------------------------------------------------------\n",
            "WEIGHT  (16,)\n",
            "Before pruning------->\n",
            "16\n",
            "After pruning------->\n",
            "9\n",
            "-------------------------------------------------------------------------------\n",
            "BIAS  (16,)\n",
            "Before pruning------->\n",
            "16\n",
            "After pruning------->\n",
            "8\n",
            "-------------------------------------------------------------------------------\n",
            "WEIGHT  (16, 16, 3, 3)\n",
            "Before pruning------->\n",
            "2304\n",
            "After pruning------->\n",
            "380\n",
            "-------------------------------------------------------------------------------\n",
            "BIAS  (16,)\n",
            "Before pruning------->\n",
            "16\n",
            "After pruning------->\n",
            "0\n",
            "-------------------------------------------------------------------------------\n",
            "WEIGHT  (16,)\n",
            "Before pruning------->\n",
            "16\n",
            "After pruning------->\n",
            "12\n",
            "-------------------------------------------------------------------------------\n",
            "BIAS  (16,)\n",
            "Before pruning------->\n",
            "16\n",
            "After pruning------->\n",
            "12\n",
            "-------------------------------------------------------------------------------\n",
            "WEIGHT  (32, 16, 3, 3)\n",
            "Before pruning------->\n",
            "4608\n",
            "After pruning------->\n",
            "331\n",
            "-------------------------------------------------------------------------------\n",
            "BIAS  (32,)\n",
            "Before pruning------->\n",
            "32\n",
            "After pruning------->\n",
            "0\n",
            "-------------------------------------------------------------------------------\n",
            "WEIGHT  (32,)\n",
            "Before pruning------->\n",
            "32\n",
            "After pruning------->\n",
            "10\n",
            "-------------------------------------------------------------------------------\n",
            "BIAS  (32,)\n",
            "Before pruning------->\n",
            "32\n",
            "After pruning------->\n",
            "1\n",
            "-------------------------------------------------------------------------------\n",
            "WEIGHT  (300, 1568)\n",
            "Before pruning------->\n",
            "470400\n",
            "After pruning------->\n",
            "1752\n",
            "-------------------------------------------------------------------------------\n",
            "BIAS  (300,)\n",
            "Before pruning------->\n",
            "300\n",
            "After pruning------->\n",
            "0\n",
            "-------------------------------------------------------------------------------\n",
            "WEIGHT  (62, 300)\n",
            "Before pruning------->\n",
            "18600\n",
            "After pruning------->\n",
            "987\n",
            "-------------------------------------------------------------------------------\n",
            "BIAS  (62,)\n",
            "Before pruning------->\n",
            "62\n",
            "After pruning------->\n",
            "0\n",
            "-------------------------------------------------------------------------------\n"
          ],
          "name": "stdout"
        }
      ]
    },
    {
      "metadata": {
        "id": "xP6XK9hqTnnM",
        "colab_type": "text"
      },
      "cell_type": "markdown",
      "source": [
        "### References\n",
        "\n",
        "1. http://www.pyimagesearch.com/2016/09/19/understanding-regularization-for-image-classification-and-machine-learning/"
      ]
    },
    {
      "metadata": {
        "id": "fCmqGnUSTnnM",
        "colab_type": "code",
        "colab": {}
      },
      "cell_type": "code",
      "source": [
        ""
      ],
      "execution_count": 0,
      "outputs": []
    }
  ]
}